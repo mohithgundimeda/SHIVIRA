{
 "cells": [
  {
   "cell_type": "code",
   "execution_count": 8,
   "id": "66766df2-bbad-4fa9-b548-bed7685552cf",
   "metadata": {},
   "outputs": [
    {
     "name": "stdout",
     "output_type": "stream",
     "text": [
      "Converting bavaria1.jpg to WebP (with resize)\n",
      "Converted bavaria1.jpg to WebP\n",
      "Conversion completed.\n"
     ]
    }
   ],
   "source": [
    "import os\n",
    "import subprocess\n",
    "\n",
    "\n",
    "type = \"medium\"\n",
    "folder_name = \"ontario\"\n",
    "new_size = \"102400\" if type == \"large\" else \"81620\"\n",
    "\n",
    "\n",
    "input_dir = fr\"C:\\Users\\mohit\\OneDrive\\Desktop\\shivira\\public\\static\\autumn\\{folder_name}\\{folder_name}-jpg\\{folder_name}-jpg-{type}\"\n",
    "output_dir = fr\"C:\\Users\\mohit\\OneDrive\\Desktop\\shivira\\public\\static\\autumn\\{folder_name}\\{folder_name}-webp\\{folder_name}-webp-{type}\"\n",
    "\n",
    "\n",
    "os.makedirs(output_dir, exist_ok=True)\n",
    "\n",
    "\n",
    "cwebp_params = [\n",
    "    \"-preset\", \"photo\",\n",
    "    \"-size\", new_size,\n",
    "    \"-m\", \"6\",\n",
    "    \"-sns\", \"80\",\n",
    "    \"-f\", \"50\",\n",
    "    \"-sharp_yuv\",\n",
    "    \"-metadata\", \"none\"\n",
    "]\n",
    "\n",
    "\n",
    "cwebp_params_small = [\n",
    "    \"-preset\", \"photo\",\n",
    "    \"-q\", \"80\", \n",
    "    \"-m\", \"6\",\n",
    "    \"-sns\", \"80\",\n",
    "    \"-f\", \"50\",\n",
    "    \"-sharp_yuv\",\n",
    "    \"-metadata\", \"none\"\n",
    "]\n",
    "\n",
    "\n",
    "size_threshold = 100 * 1024 if type == \"large\" else 80 * 1024  # 100KB or 80KB\n",
    "\n",
    "\n",
    "for filename in os.listdir(input_dir):\n",
    "    if filename.lower().endswith(\".jpg\") or filename.lower().endswith(\".jpeg\"):\n",
    "       \n",
    "        input_path = os.path.join(input_dir, filename)\n",
    "        output_filename = os.path.splitext(filename)[0] + \".webp\"\n",
    "        output_path = os.path.join(output_dir, output_filename)\n",
    "\n",
    "        \n",
    "        file_size = os.path.getsize(input_path)\n",
    "\n",
    "        \n",
    "        if file_size < size_threshold:\n",
    "            cwebp_command = [\"cwebp\"] + cwebp_params_small + [input_path, \"-o\", output_path]\n",
    "            print(f\"Converting {filename} to WebP (small file, no resize)\")\n",
    "        else:\n",
    "            cwebp_command = [\"cwebp\"] + cwebp_params + [input_path, \"-o\", output_path]\n",
    "            print(f\"Converting {filename} to WebP (with resize)\")\n",
    "\n",
    "        try:\n",
    "            \n",
    "            subprocess.run(cwebp_command, check=True)\n",
    "            print(f\"Converted {filename} to WebP\")\n",
    "        except subprocess.CalledProcessError as e:\n",
    "            print(f\"Error converting {filename}: {e}\")\n",
    "        except FileNotFoundError:\n",
    "            print(\"cwebp not found. Ensure it is installed and in your PATH.\")\n",
    "            break\n",
    "\n",
    "print(\"Conversion completed.\")"
   ]
  }
 ],
 "metadata": {
  "kernelspec": {
   "display_name": "Python 3 (ipykernel)",
   "language": "python",
   "name": "python3"
  },
  "language_info": {
   "codemirror_mode": {
    "name": "ipython",
    "version": 3
   },
   "file_extension": ".py",
   "mimetype": "text/x-python",
   "name": "python",
   "nbconvert_exporter": "python",
   "pygments_lexer": "ipython3",
   "version": "3.12.6"
  }
 },
 "nbformat": 4,
 "nbformat_minor": 5
}
